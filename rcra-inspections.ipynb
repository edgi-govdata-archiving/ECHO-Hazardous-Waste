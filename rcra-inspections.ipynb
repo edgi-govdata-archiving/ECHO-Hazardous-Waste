{
 "cells": [
  {
   "cell_type": "markdown",
   "metadata": {},
   "source": [
    "# Hazardous Waste: Inspections\n",
    "\n",
    "## Resource Conservation and Recovery Act Inspections by Congressional District\n",
    "\n",
    "This notebook examines ECHO data on oversight of the handling of waste, and hazardous waste in particular, uder the Resource Conservation and Recovery Act, or RCRA.  It uses data from the ECHO downloadable files entitled using ECHO_EXPORTER, RCRA_FACILITIES,\n",
    "and RCRA_EVALUATIONS.\n",
    "\n",
    "From ECHO_EXPORTER:\n",
    "<ul>\n",
    "    <li>RCRA_IDS - to match facilities/violations in RCRA_FACILITIES and RCRA_EVALUATIONS</li>\n",
    "    <li>FAC_DERIVED_CD113 - 113th congressional district</li>\n",
    "    <li>FAC_LAT and FAC_LONG - latitude and longitude</li>\n",
    "    <li>RCRA_PERMIT_TYPES</li>\n",
    "</ul>\n",
    "\n",
    "RCRA Permit Types include:\n",
    "<ul>\n",
    "    <li>TSDF = Treatment, Storage and Disposal facility</li>\n",
    "    <li>LQG = Large Quantity Generator</li>\n",
    "    <li>SQG = Small Quantity Generator</li>\n",
    "    <li>CESQG = Conditionally-Exempt Small Quantity Generator</li>\n",
    "</ul>\n",
    "\n",
    "From RCRA_EVALUATIONS we get:\n",
    "<ul>\n",
    "    <li>EVALUATION_DESC - a description of the evaluation</li>\n",
    "    <li>EVALUATION_AGENCY - the agency that conducted the evaluation</li>\n",
    "    <li>EVALUATION_START_DATE</li>\n",
    "</ul>\n",
    "\n",
    "A state and congressional district must be chosen using the dropdown\n",
    "widgets that are provided."
   ]
  },
  {
   "cell_type": "markdown",
   "metadata": {},
   "source": [
    "---\n",
    "---"
   ]
  },
  {
   "cell_type": "markdown",
   "metadata": {},
   "source": [
    "## How to Run\n",
    "* If you click on a gray **code** cell, a little “play button” arrow appears on the left. If you click the play button, it will run the code in that cell (“**running** a cell”). The button will animate. When the animation stops, the cell has finished running.\n",
    "![Where to click to run the cell](https://github.com/edgi-govdata-archiving/EEW-Image-Assets/blob/master/Jupyter%20instructions/pressplay.JPG?raw=true)\n",
    "* You may get a warning that the notebook was not authored by Google. We know, we authored them! It’s okay. Click “Run Anyway” to continue. \n",
    "![Error Message](https://github.com/edgi-govdata-archiving/EEW-Image-Assets/blob/master/Jupyter%20instructions/warning-message.JPG?raw=true)\n",
    "* **It is important to run cells in order because they depend on each other.**\n",
    "* Some cells, like the one shown below, will create a dropdown menu after you run them. Be sure to make a selection (for example, click to change NY to LA) before running the next cell.\n",
    "![Dropdown menu](https://github.com/edgi-govdata-archiving/EEW-Image-Assets/blob/master/Jupyter%20instructions/dropdown.JPG?raw=true)\n",
    "* Other cells will simply print information when you run them, like this one:\n",
    "![Simple cell](https://github.com/edgi-govdata-archiving/EEW-Image-Assets/blob/master/Jupyter%20instructions/cell-simple.JPG?raw=true)\n",
    "* Run all of the cells in a Notebook to make a complete report. Please feel free to look at and **learn about each result as you create it**!"
   ]
  },
  {
   "cell_type": "markdown",
   "metadata": {},
   "source": [
    "---\n",
    "---"
   ]
  },
  {
   "cell_type": "markdown",
   "metadata": {},
   "source": [
    "# **Let's begin!**"
   ]
  },
  {
   "cell_type": "markdown",
   "metadata": {},
   "source": [
    "### Hover over the \"[ ]\" on the top left corner of the cell below and you should see a \"play\" button appear. Click on it to run the cell then move to the next one."
   ]
  },
  {
   "cell_type": "markdown",
   "metadata": {},
   "source": [
    "### Run this next cell to create the widget for selecting states. It will create a dropdown menu at the bottom. Choose your state from the menu then move on to the next cell."
   ]
  },
  {
   "cell_type": "code",
   "execution_count": null,
   "metadata": {},
   "outputs": [],
   "source": [
    "# Import libraries\n",
    "import urllib.parse\n",
    "import pandas as pd\n",
    "import numpy as np\n",
    "import matplotlib.pyplot as plt\n",
    "%matplotlib inline\n",
    "import folium\n",
    "\n",
    "from ipywidgets import interact, interactive, fixed, interact_manual\n",
    "import ipywidgets as widgets\n",
    "\n",
    "from IPython.display import display\n",
    "\n",
    "states = [\"AL\", \"AK\", \"AZ\", \"AR\", \"CA\", \"CO\", \"CT\", \"DC\", \"DE\", \"FL\", \"GA\", \n",
    "          \"HI\", \"ID\", \"IL\", \"IN\", \"IA\", \"KS\", \"KY\", \"LA\", \"ME\", \"MD\", \n",
    "          \"MA\", \"MI\", \"MN\", \"MS\", \"MO\", \"MT\", \"NE\", \"NV\", \"NH\", \"NJ\", \n",
    "          \"NM\", \"NY\", \"NC\", \"ND\", \"OH\", \"OK\", \"OR\", \"PA\", \"RI\", \"SC\", \n",
    "          \"SD\", \"TN\", \"TX\", \"UT\", \"VT\", \"VA\", \"WA\", \"WV\", \"WI\", \"WY\"]\n",
    "dropdown_state=widgets.Dropdown(\n",
    "    options=states,\n",
    "    value='NY',\n",
    "    description='State:',\n",
    "    disabled=False,\n",
    ")\n",
    "output_state = widgets.Output()\n",
    "my_state = \"\"\n",
    "\n",
    "def dropdown_state_eventhandler( change ):\n",
    "    output_state.clear_output()\n",
    "    value = change.new\n",
    "    with output_state:\n",
    "        display( change.new )\n",
    "            \n",
    "dropdown_state.observe( dropdown_state_eventhandler, names='value')\n",
    "display( dropdown_state )"
   ]
  },
  {
   "cell_type": "markdown",
   "metadata": {},
   "source": [
    "### Run this next cell to generate the Congressional District dropdown list for your state.  Then select a CD and run the following cell.\n",
    "#### Here is a map of congressional districts: https://www.govtrack.us/congress/members/map\n",
    "Note:  Use a CD of 0 to look at the entire state."
   ]
  },
  {
   "cell_type": "code",
   "execution_count": null,
   "metadata": {},
   "outputs": [],
   "source": [
    "cd_widget = widgets.IntText(\n",
    "    value=1,\n",
    "    description='Congressional District:',\n",
    "    disabled=False\n",
    ")\n",
    "display( cd_widget )"
   ]
  },
  {
   "cell_type": "markdown",
   "metadata": {},
   "source": [
    "### Run this cell after choosing a state and congressional district. It will pull facility information from the data  from ECHO_EXPORTER table."
   ]
  },
  {
   "cell_type": "code",
   "execution_count": null,
   "metadata": {},
   "outputs": [],
   "source": [
    "my_state = dropdown_state.value\n",
    "my_cd = cd_widget.value\n",
    "\n",
    "sql = \"select REGISTRY_ID, FAC_NAME, FAC_STATE, FAC_LAT, FAC_LONG, RCRA_IDS, \" + \\\n",
    "    \"RCRA_PERMIT_TYPES, FAC_DERIVED_CD113 from ECHO_EXPORTER where RCRA_FLAG = 'Y'\" + \\\n",
    "    \"and FAC_STATE = '\" + my_state + \"'\" \n",
    "if ( my_cd > 0 ):\n",
    "    sql += \" and FAC_DERIVED_CD113 = \" + str( my_cd )\n",
    "url='http://apps.tlt.stonybrook.edu/echoepa/?query='\n",
    "data_location=url+urllib.parse.quote(sql)\n",
    "print(sql)\n",
    "print(data_location)\n"
   ]
  },
  {
   "cell_type": "markdown",
   "metadata": {},
   "source": [
    "### Run this cell to load the results of that query.\n",
    "#### How many facilities in the selected state are tracked for hazardous waste under RCRA?"
   ]
  },
  {
   "cell_type": "code",
   "execution_count": null,
   "metadata": {
    "scrolled": false
   },
   "outputs": [],
   "source": [
    "\n",
    "echo_data = pd.read_csv(data_location,encoding='iso-8859-1')\n",
    "echo_data.set_index( 'REGISTRY_ID', inplace=True )\n",
    "num_facilities = echo_data.shape[0]\n",
    "\n",
    "if ( my_cd == 0 ):\n",
    "    print(\"There are %s RCRA facilities in %s tracked in the ECHO database.\" %(num_facilities, my_state))\n",
    "else:\n",
    "    print(\"There are %s RCRA facilities in %s, cd %s tracked in the ECHO database.\" %(num_facilities, my_state, my_cd))\n"
   ]
  },
  {
   "cell_type": "markdown",
   "metadata": {},
   "source": [
    "### Next look up the inspection history for the facilities in the selected state and congressional district. This step may take a while to run. What we'll get back is a table of facility IDs,their inspections (including descriptions), and dates.\n",
    "#### How many are there? Below the table, the number of rows listed is the total number of RCRA-related inspections that have occurred over the history of the district since they started tracking in this database."
   ]
  },
  {
   "cell_type": "code",
   "execution_count": null,
   "metadata": {},
   "outputs": [],
   "source": [
    "sql = \"select ID_NUMBER, EVALUATION_DESC, EVALUATION_AGENCY, EVALUATION_START_DATE \" + \\\n",
    "        \" from `RCRA_EVALUATIONS` where ID_NUMBER like '\" + my_state + \"%'\"\n",
    "url='http://apps.tlt.stonybrook.edu/echoepa/?query='\n",
    "data_location=url+urllib.parse.quote(sql)\n",
    "# print(data_location)\n",
    "rcra_data = pd.read_csv(data_location,encoding='iso-8859-1')\n",
    "rcra_data.set_index( \"ID_NUMBER\", inplace=True)\n",
    "rcra_data"
   ]
  },
  {
   "cell_type": "markdown",
   "metadata": {},
   "source": [
    "### Evaluation Agency codes are as follows:\n",
    "<table>\n",
    "    <tr>\n",
    "        <td>Code</td>        <td>Description</td>\n",
    "    </tr>\n",
    "    <tr>\n",
    "        <td>B</td>        <td>State/Territory Contractor or Grantee</td>\n",
    "    </tr>\n",
    "    <tr>\n",
    "        <td>C</td>        <td>EPA Contractor or Grantee</td>\n",
    "    </tr>\n",
    "    <tr>\n",
    "        <td>E</td>        <td>EPA</td>\n",
    "    </tr>\n",
    "    <tr>\n",
    "        <td>L</td>        <td>Local</td>\n",
    "    </tr>\n",
    "    <tr>\n",
    "        <td>N</td>        <td>Native American</td>\n",
    "    </tr>\n",
    "    <tr>\n",
    "        <td>S</td>        <td>State/Territory</td>\n",
    "    </tr>\n",
    "    <tr>\n",
    "        <td>T</td>        <td>State/Territory-Initiated Oversight/Observation/Training Actions</td>\n",
    "    </tr>\n",
    "    <tr>\n",
    "        <td>X</td>        <td>EPA-Initiated Oversight/Observation/Training Actions</td>\n",
    "    </tr>\n",
    "</table>"
   ]
  },
  {
   "cell_type": "markdown",
   "metadata": {},
   "source": [
    "### This cell filters the RCRA data to get just records for facilities in the selected state and congressional district."
   ]
  },
  {
   "cell_type": "code",
   "execution_count": null,
   "metadata": {
    "scrolled": true
   },
   "outputs": [],
   "source": [
    "# The RCRA_IDS can contain multiple ids for a facility. \n",
    "# The string must be parsed to get each individual id to look up in RCRA_VIOLATION_HISTORY.\n",
    "# Build a Dataframe that works as a pivot table between them.\n",
    "\n",
    "cd_rcra = pd.DataFrame()\n",
    "no_data_ids = []\n",
    "# Look through all facilities in my CD.\n",
    "for fac in echo_data.itertuples():\n",
    "    # ids will be the string from ECHO_EXPORTER containing one or more RCRA_IDs.\n",
    "    ids = fac.RCRA_IDS\n",
    "    # Look at each RCRA_ID belonging to the facility\n",
    "    for rcra_id in ids.split():\n",
    "        try:\n",
    "            # Find the rcra_id in the RCRA_EVALUATIONS (rcra_data), \n",
    "            # if any exist there.\n",
    "            # It can match a ID_NUMBER, which is the index of rcra_data.\n",
    "            rcra_fac = rcra_data[rcra_data.index == rcra_id].copy()\n",
    "            # n will be the number of rcra records found.\n",
    "            n = rcra_fac.shape[0]\n",
    "            if ( n > 0 ):\n",
    "                # The frame fac_list will contain n copies of the facility.\n",
    "                df = echo_data[echo_data.index == fac.Index].copy()\n",
    "                df['REGISTRY_ID'] = fac.Index\n",
    "                fac_list = pd.concat( [df] * n, ignore_index = True )\n",
    "                # Concatenate the columns of the facility and the rcra record.\n",
    "                # The indexes must be dropped for this to work.\n",
    "                frames = [rcra_fac.reset_index(drop=True), fac_list.reset_index(drop=True)]\n",
    "                # Concatenate by columns, axis=1\n",
    "                new_cd_rcra = pd.concat( frames, axis=1, ignore_index=True )\n",
    "                # Now concatenate the newly constructed rows onto cd_rcra.\n",
    "                frames = [cd_rcra, new_cd_rcra]\n",
    "                cd_rcra = pd.concat( frames, ignore_index=False )\n",
    "        except KeyError:\n",
    "            # The air_id wasn't found in RCRA_EVALUATIONS.\n",
    "            no_data_ids.append( rcra_id )\n",
    "\n",
    "# cd_rcra is now the dataframe whose rows combine the RCRA_EVALUATIONS record with the \n",
    "# facility information \n",
    "headers = rcra_data.columns.tolist() + echo_data.columns.tolist() + ['REGISTRY_ID']\n",
    "cd_rcra.columns = headers\n",
    "print(cd_rcra)\n",
    "\n",
    "# my_cd_icis.to_csv( r'cd_rcra.csv', index=True, header=True )\n",
    "# with open( \"no_data_ids.txt\", \"w\" ) as output:\n",
    "#     output.write( str( no_data_ids ))"
   ]
  },
  {
   "cell_type": "markdown",
   "metadata": {},
   "source": [
    "## This section optionally saves some of this data to a CSV file in your Google Drive.\n",
    "The first of the next two cells will open our Google Drive to write into.\n",
    "The second cell writes the congressional district file.\n",
    "The third cell writes the file for state data.\n",
    "**Running these cells is optional.**"
   ]
  },
  {
   "cell_type": "code",
   "execution_count": null,
   "metadata": {},
   "outputs": [],
   "source": [
    "from google.colab import drive\n",
    "drive.mount('/content/drive')"
   ]
  },
  {
   "cell_type": "markdown",
   "metadata": {},
   "source": [
    "Write the state or congressional district data to CSV file."
   ]
  },
  {
   "cell_type": "code",
   "execution_count": null,
   "metadata": {},
   "outputs": [],
   "source": [
    "filename = '/content/drive/My Drive/cd-rcra-inspections-' + my_state\n",
    "if ( my_cd > 0 ):\n",
    "    filename += str( my_cd )\n",
    "filename += '.csv'\n",
    "cd_rcra.to_csv( filename ) \n",
    "print( \"Writing this data to %s\" %(filename))"
   ]
  },
  {
   "cell_type": "markdown",
   "metadata": {},
   "source": [
    "## Create an interactive map of all of the facilities in the area that report to EPA under RCRA\n",
    "### Once you run this cell, a map should appear. You can zoom in and out, or click on facilities to get their names.\n",
    "The map won't display with too many markers, so only the first 200 are shown."
   ]
  },
  {
   "cell_type": "code",
   "execution_count": null,
   "metadata": {},
   "outputs": [],
   "source": [
    "# Let's show a quick map of your area and the facilities in it\n",
    "\n",
    "def mapper(df):\n",
    "    # Initialize the map\n",
    "    center = [df.mean()[\"FAC_LAT\"], df.mean()[\"FAC_LONG\"]]\n",
    "    m = folium.Map(\n",
    "        location = center,\n",
    "        zoom_start = 9\n",
    "    )\n",
    "    print( center )\n",
    "    print( len( df ))\n",
    "\n",
    "    # Add a clickable marker for each facility\n",
    "    i = 0\n",
    "    for index, row in df.iterrows():\n",
    "        if ( type( row['FAC_NAME'] == str )) :\n",
    "            folium.Marker(\n",
    "                location = [row[\"FAC_LAT\"], row[\"FAC_LONG\"]],\n",
    "                popup = row[\"FAC_NAME\"] ).add_to(m)\n",
    "            i += 1\n",
    "        if ( i > 200 ):    # The map won't display with too many markers.\n",
    "            break\n",
    "\n",
    "    # Show the map\n",
    "    return m\n",
    "\n",
    "map_of_facilities_in_cd = mapper(cd_rcra)\n",
    "map_of_facilities_in_cd"
   ]
  },
  {
   "cell_type": "markdown",
   "metadata": {},
   "source": [
    "## Inspections by facility\n",
    "### Run the below cell, then choose a facility from the dropdown that appears to delve deeper into inspections at that facility."
   ]
  },
  {
   "cell_type": "code",
   "execution_count": null,
   "metadata": {},
   "outputs": [],
   "source": [
    "cd_array = cd_rcra[\"FAC_NAME\"].dropna().unique()\n",
    "cd_array.sort()\n",
    "\n",
    "w3=widgets.Dropdown(\n",
    "    options=cd_array,\n",
    "    description='Facility Name:',\n",
    "    disabled=False,\n",
    ")\n",
    "display(w3)"
   ]
  },
  {
   "cell_type": "markdown",
   "metadata": {},
   "source": [
    "### Run this next cell after choosing a facility to print out some details about it\n",
    "\n",
    "RCRA Permit Types:\n",
    "<ul>\n",
    "    <li>TSDF = Treatment, Storage and Disposal facility</li>\n",
    "    <li>LQG = Large Quantity Generator</li>\n",
    "    <li>SQG = Small Quantity Generator</li>\n",
    "    <li>CESQG = Conditionally-Exempt Small Quantity Generator</li>\n",
    "</ul>"
   ]
  },
  {
   "cell_type": "code",
   "execution_count": null,
   "metadata": {},
   "outputs": [],
   "source": [
    "my_fac = cd_rcra[cd_rcra[\"FAC_NAME\"] == w3.value]\n",
    "my_fac"
   ]
  },
  {
   "cell_type": "markdown",
   "metadata": {},
   "source": [
    "## Plot the number of evaluations by year for the congressional district or state."
   ]
  },
  {
   "cell_type": "code",
   "execution_count": null,
   "metadata": {},
   "outputs": [],
   "source": [
    "# This cell creates a function that will be used by both the CD and the state\n",
    "# to plot the number of cases by year.\n",
    "import datetime\n",
    "\n",
    "def show_plot( df, date_field, year_field, place, date_format, chart_title ):\n",
    "    format_str = date_format # The format\n",
    "    nan_count = 0\n",
    "    year_col = []\n",
    "    for day in df[date_field]:\n",
    "        try:\n",
    "            # breakpoint()\n",
    "            viol_year = datetime.datetime.strptime(day, format_str).year\n",
    "            year_col.append( viol_year )\n",
    "        except:\n",
    "            nan_count += 1\n",
    "            year_col.append(  np.NaN )\n",
    "    df[year_field] = year_col\n",
    "    \n",
    "    year_groups = df.groupby( year_field )[[ year_field ]]\n",
    "    counted_years = year_groups.count()\n",
    "\n",
    "    # Print how many values are present \n",
    "    print(counted_years)\n",
    "    chart_title +=  \" in \" + place + \" by year\"\n",
    "\n",
    "    ax = counted_years[[year_field]].plot(kind='bar', title = chart_title, figsize=(15, 10), legend=False, fontsize=12)\n",
    "    ax.set_xlabel(\"Year\", fontsize=12)\n",
    "    ax.set_ylabel(\"Count\", fontsize=12)\n",
    "\n",
    "chart_title = \"Total RCRA evaluations\"\n",
    "title_where = my_state\n",
    "if ( my_cd > 0 ):\n",
    "    title_where += ' - #' + str( my_cd )\n",
    "\n",
    "show_plot( cd_rcra, 'EVALUATION_START_DATE', 'YEAR_EVALUATION', \\\n",
    "          title_where, '%m/%d/%Y', chart_title )"
   ]
  },
  {
   "cell_type": "code",
   "execution_count": null,
   "metadata": {},
   "outputs": [],
   "source": []
  }
 ],
 "metadata": {
  "kernelspec": {
   "display_name": "Python 3.7.5 64-bit ('base': conda)",
   "language": "python",
   "name": "python37564bitbaseconda7071e98414dd4b3880bf69a85f4101b4"
  },
  "language_info": {
   "codemirror_mode": {
    "name": "ipython",
    "version": 3
   },
   "file_extension": ".py",
   "mimetype": "text/x-python",
   "name": "python",
   "nbconvert_exporter": "python",
   "pygments_lexer": "ipython3",
   "version": "3.7.6"
  }
 },
 "nbformat": 4,
 "nbformat_minor": 4
}
