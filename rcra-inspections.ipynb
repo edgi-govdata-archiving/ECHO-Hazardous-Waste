{
 "cells": [
  {
   "cell_type": "markdown",
   "metadata": {},
   "source": [
    "# Hazardous Waste: Inspections\n",
    "\n",
    "## Resource Conservation and Recovery Act Inspections by Congressional District\n",
    "\n",
    "This notebook examines ECHO data using ECHO_EXPORTER, RCRA_FACILITIES,\n",
    "and RCRA_EVALUATIONS.\n",
    "\n",
    "From ECHO_EXPORTER:\n",
    "<ul>\n",
    "    <li>RCRA_IDS - to match facilities/violations in RCRA_FACILITIES and RCRA_EVALUATIONS</li>\n",
    "    <li>FAC_DERIVED_CD113 - 113th congressional district</li>\n",
    "    <li>FAC_LAT and FAC_LONG - latitude and longitude</li>\n",
    "    <li>RCRA_PERMIT_TYPES</li>\n",
    "</ul>\n",
    "\n",
    "RCRA Permit Types include:\n",
    "<ul>\n",
    "    <li>TSDF = Treatment, Storage and Disposal facility</li>\n",
    "    <li>LQG = Large Quantity Generator</li>\n",
    "    <li>SQG = Small Quantity Generator</li>\n",
    "    <li>CESQG = Conditionally-Exempt Small Quantity Generator</li>\n",
    "</ul>\n",
    "\n",
    "From RCRA_EVALUATIONS we get:\n",
    "<ul>\n",
    "    <li>EVALUATION_DESC - a description of the evaluation</li>\n",
    "    <li>EVALUATION_AGENCY - the agency that conducted the evaluation</li>\n",
    "    <li>EVALUATION_START_DATE</li>\n",
    "</ul>\n",
    "\n",
    "A state and congressional district must be chosen using the dropdown\n",
    "widgets that are provided."
   ]
  },
  {
   "cell_type": "markdown",
   "metadata": {},
   "source": [
    "---\n",
    "---"
   ]
  },
  {
   "cell_type": "markdown",
   "metadata": {},
   "source": [
    "## How to Run\n",
    "* If you click on a gray **code** cell, a little “play button” arrow appears on the left. If you click the play button, it will run the code in that cell (“**running** a cell”). The button will animate. When the animation stops, the cell has finished running.\n",
    "![Where to click to run the cell](https://github.com/edgi-govdata-archiving/EEW-Image-Assets/blob/master/Jupyter%20instructions/pressplay.JPG?raw=true)\n",
    "* You may get a warning that the notebook was not authored by Google. We know, we authored them! It’s okay. Click “Run Anyway” to continue. \n",
    "![Error Message](https://github.com/edgi-govdata-archiving/EEW-Image-Assets/blob/master/Jupyter%20instructions/warning-message.JPG?raw=true)\n",
    "* **It is important to run cells in order because they depend on each other.**\n",
    "* Some cells, like the one shown below, will create a dropdown menu after you run them. Be sure to make a selection (for example, click to change NY to LA) before running the next cell.\n",
    "![Dropdown menu](https://github.com/edgi-govdata-archiving/EEW-Image-Assets/blob/master/Jupyter%20instructions/dropdown.JPG?raw=true)\n",
    "* Other cells will simply print information when you run them, like this one:\n",
    "![Simple cell](https://github.com/edgi-govdata-archiving/EEW-Image-Assets/blob/master/Jupyter%20instructions/cell-simple.JPG?raw=true)\n",
    "* Run all of the cells in a Notebook to make a complete report. Please feel free to look at and **learn about each result as you create it**!"
   ]
  },
  {
   "cell_type": "markdown",
   "metadata": {},
   "source": [
    "---\n",
    "---"
   ]
  },
  {
   "cell_type": "markdown",
   "metadata": {},
   "source": [
    "# **Let's begin!**"
   ]
  },
  {
   "cell_type": "markdown",
   "metadata": {},
   "source": [
    "### Hover over the \"[ ]\" on the top left corner of the cell below and you should see a \"play\" button appear. Click on it to run the cell then move to the next one."
   ]
  },
  {
   "cell_type": "code",
   "execution_count": null,
   "metadata": {},
   "outputs": [],
   "source": [
    "# Import libraries\n",
    "import urllib.parse\n",
    "import pandas as pd\n",
    "import numpy as np\n",
    "import matplotlib.pyplot as plt\n",
    "%matplotlib inline\n",
    "import folium\n",
    "\n",
    "from ipywidgets import interact, interactive, fixed, interact_manual\n",
    "import ipywidgets as widgets\n",
    "from IPython.display import display\n"
   ]
  },
  {
   "cell_type": "markdown",
   "metadata": {},
   "source": [
    "### Run this next cell to create the widget for selecting states. It will create a dropdown menu at the bottom. Choose your state from the menu then move on to the next cell."
   ]
  },
  {
   "cell_type": "code",
   "execution_count": null,
   "metadata": {},
   "outputs": [],
   "source": [
    "states = [\"AL\", \"AK\", \"AZ\", \"AR\", \"CA\", \"CO\", \"CT\", \"DC\", \"DE\", \"FL\", \"GA\", \n",
    "          \"HI\", \"ID\", \"IL\", \"IN\", \"IA\", \"KS\", \"KY\", \"LA\", \"ME\", \"MD\", \n",
    "          \"MA\", \"MI\", \"MN\", \"MS\", \"MO\", \"MT\", \"NE\", \"NV\", \"NH\", \"NJ\", \n",
    "          \"NM\", \"NY\", \"NC\", \"ND\", \"OH\", \"OK\", \"OR\", \"PA\", \"RI\", \"SC\", \n",
    "          \"SD\", \"TN\", \"TX\", \"UT\", \"VT\", \"VA\", \"WA\", \"WV\", \"WI\", \"WY\"]\n",
    "dropdown_state=widgets.Dropdown(\n",
    "    options=states,\n",
    "    value='NY',\n",
    "    description='State:',\n",
    "    disabled=False,\n",
    ")\n",
    "output_state = widgets.Output()\n",
    "my_state = \"\"\n",
    "\n",
    "def dropdown_state_eventhandler( change ):\n",
    "    output_state.clear_output()\n",
    "    value = change.new\n",
    "    with output_state:\n",
    "        display( change.new )\n",
    "            \n",
    "dropdown_state.observe( dropdown_state_eventhandler, names='value')\n",
    "display( dropdown_state )"
   ]
  },
  {
   "cell_type": "markdown",
   "metadata": {},
   "source": [
    "### Run this cell after choosing a state. It will pull the data for that state from ECHO"
   ]
  },
  {
   "cell_type": "code",
   "execution_count": null,
   "metadata": {},
   "outputs": [],
   "source": [
    "my_state = dropdown_state.value\n",
    "\n",
    "sql = \"select FAC_NAME, FAC_STATE, FAC_LAT, FAC_LONG, RCRA_IDS, \" + \\\n",
    "    \"RCRA_PERMIT_TYPES, FAC_DERIVED_CD113 from ECHO_EXPORTER where RCRA_FLAG = 'Y'\" + \\\n",
    "    \"and FAC_STATE = '\" + my_state + \"'\" \n",
    "url='http://apps.tlt.stonybrook.edu/echoepa/?query='\n",
    "data_location=url+urllib.parse.quote(sql)\n",
    "print(sql)\n",
    "print(data_location)\n"
   ]
  },
  {
   "cell_type": "markdown",
   "metadata": {},
   "source": [
    "### Run this cell to load the CSV of that data.\n",
    "#### How many facilities in the selected state are tracked for hazardous waste under RCRA?"
   ]
  },
  {
   "cell_type": "code",
   "execution_count": null,
   "metadata": {
    "scrolled": false
   },
   "outputs": [],
   "source": [
    "\n",
    "echo_data = pd.read_csv(data_location,encoding='iso-8859-1',header = 0)\n",
    "num_facilities = echo_data.shape[0]\n",
    "\n",
    "print(\"There are %s RCRA facilities in %s tracked in the ECHO database.\" %(num_facilities, my_state))"
   ]
  },
  {
   "cell_type": "markdown",
   "metadata": {},
   "source": [
    "### Run this next cell to generate the Congressional District dropdown list for your state.  Then select a CD and run the following cell.\n",
    "#### Here is a map of congressional districts: https://www.govtrack.us/congress/members/map"
   ]
  },
  {
   "cell_type": "code",
   "execution_count": null,
   "metadata": {},
   "outputs": [],
   "source": [
    "if (( my_state != 'none' ) & (my_state != 'all' )):\n",
    "    cd_array = echo_data[\"FAC_DERIVED_CD113\"].fillna(0).astype(int).unique()\n",
    "    cd_array.sort()\n",
    "    w2=widgets.Dropdown(\n",
    "        options=cd_array,\n",
    "        value=1,\n",
    "        description='Congressional Districts:',\n",
    "        disabled=False,\n",
    "    )\n",
    "    display(w2)"
   ]
  },
  {
   "cell_type": "markdown",
   "metadata": {},
   "source": [
    "### Run this next cell after choosing a congressional district from the dropdown list.\n",
    "#### How many facilities in the selected state are tracked for hazardous waste under RCRA?"
   ]
  },
  {
   "cell_type": "code",
   "execution_count": null,
   "metadata": {},
   "outputs": [],
   "source": [
    "my_cd = w2.value\n",
    "my_cd_facs = echo_data[echo_data[\"FAC_DERIVED_CD113\"].fillna(0).astype(int) == my_cd]\n",
    "num_facilities = my_cd_facs.shape[0]    \n",
    "print(\"There are %s RCRA facilities in %s district %s tracked in the ECHO database.\" %(num_facilities, my_state, my_cd))"
   ]
  },
  {
   "cell_type": "markdown",
   "metadata": {},
   "source": [
    "### Next look up the inspection history for the facilities in the selected state and congressional district. This step may take a while to run. What we'll get back is a table of facility IDs,their inspections (including descriptions), and dates.\n",
    "#### How many are there? Below the table, the number of rows listed is the total number of RCRA-related inspections that have occurred over the history of the district since they started tracking in this database."
   ]
  },
  {
   "cell_type": "code",
   "execution_count": null,
   "metadata": {},
   "outputs": [],
   "source": [
    "sql = \"select ID_NUMBER, EVALUATION_DESC, EVALUATION_AGENCY, EVALUATION_START_DATE \" + \\\n",
    "        \" from `RCRA_EVALUATIONS` where ID_NUMBER like '\" + my_state + \"%'\"\n",
    "url='http://apps.tlt.stonybrook.edu/echoepa/?query='\n",
    "data_location=url+urllib.parse.quote(sql)\n",
    "# print(data_location)\n",
    "rcra_data = pd.read_csv(data_location,encoding='iso-8859-1',header = 0)\n",
    "rcra_data.set_index( \"ID_NUMBER\", inplace=True)\n",
    "rcra_data"
   ]
  },
  {
   "cell_type": "markdown",
   "metadata": {},
   "source": [
    "### This cell gets more information about each facility. Run it to set up for the next part."
   ]
  },
  {
   "cell_type": "code",
   "execution_count": null,
   "metadata": {
    "scrolled": true
   },
   "outputs": [],
   "source": [
    "# The RCRA_IDS can contain multiple ids for a facility. \n",
    "# The string must be parsed to get each individual id to look up in RCRA_VIOLATION_HISTORY.\n",
    "\n",
    "cd_rcra = pd.DataFrame()\n",
    "no_data_ids = []\n",
    "# Look through all facilities in my CD.\n",
    "for fac in my_cd_facs.itertuples():\n",
    "    # print( type( fac ))\n",
    "    # breakpoint()\n",
    "    ids = fac.RCRA_IDS\n",
    "    # Look at each RCRA_ID belonging to the facility\n",
    "    for rcra_id in ids.split():\n",
    "        try:\n",
    "            # Find the rcra_id in the RCRA_VIOLATION_HISTORY, if any exist there.\n",
    "            # It can match a ID_NUMBER, which is the index of rcra_data.\n",
    "            rcra_fac = rcra_data.loc[ rcra_id ].copy()\n",
    "            # Add the facility's index number to rcra_fac, to refer to it.\n",
    "            n = rcra_fac.shape[0]\n",
    "            fac_list = [fac.Index] * n\n",
    "            rcra_fac['facility'] = fac_list\n",
    "            # Make a frame that contains the violations.  Add it to my_cd_icis.\n",
    "            frames = [cd_rcra, rcra_fac]\n",
    "            cd_rcra = pd.concat( frames, ignore_index=False )\n",
    "        except KeyError:\n",
    "            # The air_id wasn't found in RCRA_VIOLATION_HISTORY.\n",
    "            no_data_ids.append( rcra_id )\n",
    "\n",
    "cd_rcra\n",
    "\n",
    "# my_cd_icis.to_csv( r'my_cd_icis.csv', index=True, header=True )\n",
    "# with open( \"no_data_ids.txt\", \"w\" ) as output:\n",
    "#     output.write( str( no_data_ids ))"
   ]
  },
  {
   "cell_type": "markdown",
   "metadata": {},
   "source": [
    "### This one is set up too, generating a table that maps facilities to their locations and permit types."
   ]
  },
  {
   "cell_type": "code",
   "execution_count": null,
   "metadata": {},
   "outputs": [],
   "source": [
    "fac_idx_list = cd_rcra['facility'].dropna()\n",
    "fac_cd_rcra = my_cd_facs.loc[fac_idx_list]\n",
    "fac_cd_rcra"
   ]
  },
  {
   "cell_type": "markdown",
   "metadata": {},
   "source": [
    "## This section saves some of this data to a CSV file in your Google Drive.\n",
    "The first of the next three cells will open our Google Drive to write into.\n",
    "The second cell writes the congressional district file.\n",
    "The third cell writes the file for state data.\n",
    "**Running these cells is optional.**"
   ]
  },
  {
   "cell_type": "code",
   "execution_count": null,
   "metadata": {},
   "outputs": [],
   "source": [
    "from google.colab import drive\n",
    "drive.mount('/content/drive')"
   ]
  },
  {
   "cell_type": "markdown",
   "metadata": {},
   "source": [
    "Write the congressional district data to CSV file."
   ]
  },
  {
   "cell_type": "code",
   "execution_count": null,
   "metadata": {},
   "outputs": [],
   "source": [
    "filename = '/content/drive/My Drive/cd-rcra-inspections-' + my_state + '-' + str( my_cd ) + '.csv'\n",
    "cd_rcra.to_csv( filename ) \n",
    "print( \"Writing this data to %s\" %(filename))"
   ]
  },
  {
   "cell_type": "markdown",
   "metadata": {},
   "source": [
    "Write the state data to CSV file."
   ]
  },
  {
   "cell_type": "code",
   "execution_count": null,
   "metadata": {},
   "outputs": [],
   "source": [
    "filename = '/content/drive/My Drive/state-rcra-inspections-' + my_state + '.csv'\n",
    "rcra_data.to_csv( filename ) \n",
    "print( \"Writing this data to %s\" %(filename))"
   ]
  },
  {
   "cell_type": "markdown",
   "metadata": {},
   "source": [
    "## Create an interactive map of all of the facilities in the area that report to EPA under RCRA\n",
    "### Once you run this cell, a map should appear. You can zoom in and out, or click on facilities to get their names."
   ]
  },
  {
   "cell_type": "code",
   "execution_count": null,
   "metadata": {},
   "outputs": [],
   "source": [
    "# Let's show a quick map of your area and the facilities in it\n",
    "\n",
    "def mapper(df):\n",
    "    # Initialize the map\n",
    "    m = folium.Map(\n",
    "        location = [df.mean()[\"FAC_LAT\"], df.mean()[\"FAC_LONG\"]],\n",
    "        zoom_start = 11\n",
    "    )\n",
    "\n",
    "    # Add a clickable marker for each facility\n",
    "    for index, row in df.iterrows():\n",
    "        folium.Marker(\n",
    "            location = [row[\"FAC_LAT\"], row[\"FAC_LONG\"]],\n",
    "            popup = row[\"FAC_NAME\"] ).add_to(m)\n",
    "\n",
    "    # Show the map\n",
    "    return m\n",
    "\n",
    "map_of_facilities_in_cd = mapper(fac_cd_rcra)\n",
    "map_of_facilities_in_cd"
   ]
  },
  {
   "cell_type": "markdown",
   "metadata": {},
   "source": [
    "## Inspections by facility\n",
    "### Run the below cell, then choose a facility from the dropdown that appears to delve deeper into inspections at that facility."
   ]
  },
  {
   "cell_type": "code",
   "execution_count": null,
   "metadata": {},
   "outputs": [],
   "source": [
    "cd_array = fac_cd_rcra[\"FAC_NAME\"].dropna().unique()\n",
    "cd_array.sort()\n",
    "\n",
    "w3=widgets.Dropdown(\n",
    "    options=cd_array,\n",
    "    description='Facility Name:',\n",
    "    disabled=False,\n",
    ")\n",
    "display(w3)"
   ]
  },
  {
   "cell_type": "markdown",
   "metadata": {},
   "source": [
    "### Run this next cell after choosing a facility to print out some details about it\n",
    "\n",
    "RCRA Permit Types:\n",
    "<ul>\n",
    "    <li>TSDF = Treatment, Storage and Disposal facility</li>\n",
    "    <li>LQG = Large Quantity Generator</li>\n",
    "    <li>SQG = Small Quantity Generator</li>\n",
    "    <li>CESQG = Conditionally-Exempt Small Quantity Generator</li>\n",
    "</ul>"
   ]
  },
  {
   "cell_type": "code",
   "execution_count": null,
   "metadata": {},
   "outputs": [],
   "source": [
    "my_fac = fac_cd_rcra[fac_cd_rcra[\"FAC_NAME\"] == w3.value]\n",
    "evaluations = cd_rcra[cd_rcra['facility'] == my_fac.iloc[[0]].index[0]]\n",
    "print( my_fac.iloc[0] )\n",
    "evaluations\n"
   ]
  },
  {
   "cell_type": "markdown",
   "metadata": {},
   "source": [
    "### This is a setup cell, run it to create a function that will be used later"
   ]
  },
  {
   "cell_type": "code",
   "execution_count": null,
   "metadata": {},
   "outputs": [],
   "source": [
    "# This cell creates a function that will be used by both the CD and the state\n",
    "# to plot the number of cases by year.\n",
    "import datetime\n",
    "\n",
    "def show_plot( df, date_field, year_field, place, date_format, chart_title ):\n",
    "    format_str = date_format # The format\n",
    "    nan_count = 0\n",
    "    year_col = []\n",
    "    for day in df[date_field]:\n",
    "        try:\n",
    "            # breakpoint()\n",
    "            viol_year = datetime.datetime.strptime(day, format_str).year\n",
    "            year_col.append( viol_year )\n",
    "        except:\n",
    "            nan_count += 1\n",
    "            year_col.append(  np.NaN )\n",
    "    df[year_field] = year_col\n",
    "    \n",
    "    year_groups = df.groupby( year_field )[[ year_field ]]\n",
    "    counted_years = year_groups.count()\n",
    "\n",
    "    # Print how many values are present \n",
    "    print(counted_years)\n",
    "    chart_title +=  \" in \" + place + \" by year\"\n",
    "\n",
    "    ax = counted_years[[year_field]].plot(kind='bar', title = chart_title, figsize=(15, 10), legend=False, fontsize=12)\n",
    "    ax.set_xlabel(\"Year\", fontsize=12)\n",
    "    ax.set_ylabel(\"Count\", fontsize=12)"
   ]
  },
  {
   "cell_type": "markdown",
   "metadata": {},
   "source": [
    "## Plot the number of evaluations by year for the congressional district."
   ]
  },
  {
   "cell_type": "code",
   "execution_count": null,
   "metadata": {},
   "outputs": [],
   "source": [
    "chart_title = \"Total RCRA evaluations\"\n",
    "\n",
    "show_plot( cd_rcra, 'EVALUATION_START_DATE', 'YEAR_EVALUATION', \\\n",
    "          my_state + ' - #' + str( my_cd ), '%m/%d/%Y', chart_title )"
   ]
  },
  {
   "cell_type": "markdown",
   "metadata": {},
   "source": [
    "## Plot the number of evaluations by year, using the entire state.\n",
    "Since the number of evaluations in a single CD may be small, it can be more\n",
    "interesting to look at the entire state."
   ]
  },
  {
   "cell_type": "code",
   "execution_count": null,
   "metadata": {},
   "outputs": [],
   "source": [
    "show_plot( rcra_data, 'EVALUATION_START_DATE', 'YEAR_EVALUATION', \\\n",
    "          my_state, '%m/%d/%Y', chart_title )"
   ]
  },
  {
   "cell_type": "code",
   "execution_count": null,
   "metadata": {},
   "outputs": [],
   "source": []
  }
 ],
 "metadata": {
  "kernelspec": {
   "display_name": "Python 3",
   "language": "python",
   "name": "python3"
  },
  "language_info": {
   "codemirror_mode": {
    "name": "ipython",
    "version": 3
   },
   "file_extension": ".py",
   "mimetype": "text/x-python",
   "name": "python",
   "nbconvert_exporter": "python",
   "pygments_lexer": "ipython3",
   "version": "3.7.4"
  }
 },
 "nbformat": 4,
 "nbformat_minor": 4
}
